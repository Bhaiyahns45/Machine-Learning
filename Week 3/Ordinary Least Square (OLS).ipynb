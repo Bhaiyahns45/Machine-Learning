{
 "cells": [
  {
   "cell_type": "code",
   "execution_count": 92,
   "id": "924bd0ea",
   "metadata": {},
   "outputs": [],
   "source": [
    "import matplotlib.pyplot as plt\n",
    "import pandas as pd\n",
    "import numpy as np"
   ]
  },
  {
   "cell_type": "code",
   "execution_count": 93,
   "id": "eeca257a",
   "metadata": {},
   "outputs": [],
   "source": [
    "df=pd.read_csv('D:\\Data_sets\\Data.csv')"
   ]
  },
  {
   "cell_type": "code",
   "execution_count": 94,
   "id": "e27da3e4",
   "metadata": {},
   "outputs": [
    {
     "data": {
      "text/html": [
       "<div>\n",
       "<style scoped>\n",
       "    .dataframe tbody tr th:only-of-type {\n",
       "        vertical-align: middle;\n",
       "    }\n",
       "\n",
       "    .dataframe tbody tr th {\n",
       "        vertical-align: top;\n",
       "    }\n",
       "\n",
       "    .dataframe thead th {\n",
       "        text-align: right;\n",
       "    }\n",
       "</style>\n",
       "<table border=\"1\" class=\"dataframe\">\n",
       "  <thead>\n",
       "    <tr style=\"text-align: right;\">\n",
       "      <th></th>\n",
       "      <th>Year_Of_Experience</th>\n",
       "      <th>Salary</th>\n",
       "    </tr>\n",
       "  </thead>\n",
       "  <tbody>\n",
       "    <tr>\n",
       "      <th>0</th>\n",
       "      <td>2</td>\n",
       "      <td>15</td>\n",
       "    </tr>\n",
       "    <tr>\n",
       "      <th>1</th>\n",
       "      <td>3</td>\n",
       "      <td>28</td>\n",
       "    </tr>\n",
       "    <tr>\n",
       "      <th>2</th>\n",
       "      <td>5</td>\n",
       "      <td>42</td>\n",
       "    </tr>\n",
       "    <tr>\n",
       "      <th>3</th>\n",
       "      <td>13</td>\n",
       "      <td>64</td>\n",
       "    </tr>\n",
       "    <tr>\n",
       "      <th>4</th>\n",
       "      <td>8</td>\n",
       "      <td>50</td>\n",
       "    </tr>\n",
       "    <tr>\n",
       "      <th>5</th>\n",
       "      <td>16</td>\n",
       "      <td>90</td>\n",
       "    </tr>\n",
       "    <tr>\n",
       "      <th>6</th>\n",
       "      <td>11</td>\n",
       "      <td>58</td>\n",
       "    </tr>\n",
       "    <tr>\n",
       "      <th>7</th>\n",
       "      <td>1</td>\n",
       "      <td>8</td>\n",
       "    </tr>\n",
       "    <tr>\n",
       "      <th>8</th>\n",
       "      <td>9</td>\n",
       "      <td>54</td>\n",
       "    </tr>\n",
       "    <tr>\n",
       "      <th>9</th>\n",
       "      <td>7</td>\n",
       "      <td>48</td>\n",
       "    </tr>\n",
       "    <tr>\n",
       "      <th>10</th>\n",
       "      <td>15</td>\n",
       "      <td>70</td>\n",
       "    </tr>\n",
       "  </tbody>\n",
       "</table>\n",
       "</div>"
      ],
      "text/plain": [
       "    Year_Of_Experience  Salary\n",
       "0                    2      15\n",
       "1                    3      28\n",
       "2                    5      42\n",
       "3                   13      64\n",
       "4                    8      50\n",
       "5                   16      90\n",
       "6                   11      58\n",
       "7                    1       8\n",
       "8                    9      54\n",
       "9                    7      48\n",
       "10                  15      70"
      ]
     },
     "execution_count": 94,
     "metadata": {},
     "output_type": "execute_result"
    }
   ],
   "source": [
    "df"
   ]
  },
  {
   "cell_type": "code",
   "execution_count": 95,
   "id": "6b90ba8f",
   "metadata": {},
   "outputs": [
    {
     "data": {
      "text/plain": [
       "Text(0, 0.5, 'Salary in 1000$')"
      ]
     },
     "execution_count": 95,
     "metadata": {},
     "output_type": "execute_result"
    },
    {
     "data": {
      "image/png": "[encoded data removed]",
      "text/plain": [
       "<Figure size 576x432 with 1 Axes>"
      ]
     },
     "metadata": {
      "needs_background": "light"
     },
     "output_type": "display_data"
    }
   ],
   "source": [
    "plt.figure(figsize = (8,6))\n",
    "plt.scatter(df.Year_Of_Experience, df.Salary, color='r')\n",
    "plt.xlabel(\"Year Of Experience\",fontsize=15)\n",
    "plt.ylabel(\"Salary in 1000$\",fontsize=15)\n"
   ]
  },
  {
   "cell_type": "code",
   "execution_count": 96,
   "id": "7188fd3c",
   "metadata": {},
   "outputs": [],
   "source": [
    "x=df.loc[:,'Year_Of_Experience']\n",
    "X=x.values\n",
    "\n",
    "y=df.loc[:,'Salary']\n",
    "Y=y.values"
   ]
  },
  {
   "cell_type": "code",
   "execution_count": 97,
   "id": "3e79425f",
   "metadata": {},
   "outputs": [],
   "source": [
    "x_mean=np.mean(x)"
   ]
  },
  {
   "cell_type": "code",
   "execution_count": 98,
   "id": "16b0ecd8",
   "metadata": {},
   "outputs": [
    {
     "data": {
      "text/plain": [
       "8.181818181818182"
      ]
     },
     "execution_count": 98,
     "metadata": {},
     "output_type": "execute_result"
    }
   ],
   "source": [
    "x_mean"
   ]
  },
  {
   "cell_type": "code",
   "execution_count": 99,
   "id": "db6467c1",
   "metadata": {},
   "outputs": [],
   "source": [
    "y_mean=np.mean(y)"
   ]
  },
  {
   "cell_type": "code",
   "execution_count": 100,
   "id": "f78c82f1",
   "metadata": {},
   "outputs": [
    {
     "data": {
      "text/plain": [
       "47.90909090909091"
      ]
     },
     "execution_count": 100,
     "metadata": {},
     "output_type": "execute_result"
    }
   ],
   "source": [
    "y_mean"
   ]
  },
  {
   "cell_type": "markdown",
   "id": "22a9e415",
   "metadata": {},
   "source": [
    "### Slope"
   ]
  },
  {
   "cell_type": "code",
   "execution_count": 101,
   "id": "9b3160a8",
   "metadata": {},
   "outputs": [
    {
     "data": {
      "text/plain": [
       "4.491847826086956"
      ]
     },
     "execution_count": 101,
     "metadata": {},
     "output_type": "execute_result"
    }
   ],
   "source": [
    "slope= np.sum((x-x_mean)*(y-y_mean))/np.sum(np.square(x-x_mean))\n",
    "slope"
   ]
  },
  {
   "cell_type": "markdown",
   "id": "9262c256",
   "metadata": {},
   "source": [
    "### Intercept"
   ]
  },
  {
   "cell_type": "code",
   "execution_count": 102,
   "id": "ad14bdda",
   "metadata": {},
   "outputs": [],
   "source": [
    "intercept=y_mean-slope*x_mean"
   ]
  },
  {
   "cell_type": "code",
   "execution_count": 103,
   "id": "748c3d39",
   "metadata": {},
   "outputs": [
    {
     "data": {
      "text/plain": [
       "11.157608695652172"
      ]
     },
     "execution_count": 103,
     "metadata": {},
     "output_type": "execute_result"
    }
   ],
   "source": [
    "intercept"
   ]
  },
  {
   "cell_type": "code",
   "execution_count": 104,
   "id": "616ea70e",
   "metadata": {},
   "outputs": [],
   "source": [
    "reg_line=[ (slope*i) + intercept for i in x ]"
   ]
  },
  {
   "cell_type": "code",
   "execution_count": 105,
   "id": "ff146d7c",
   "metadata": {},
   "outputs": [
    {
     "data": {
      "text/plain": [
       "Text(0, 0.5, 'Salary in 1000$')"
      ]
     },
     "execution_count": 105,
     "metadata": {},
     "output_type": "execute_result"
    },
    {
     "data": {
      "image/png": "[encoded data removed]",
      "text/plain": [
       "<Figure size 576x432 with 1 Axes>"
      ]
     },
     "metadata": {
      "needs_background": "light"
     },
     "output_type": "display_data"
    }
   ],
   "source": [
    "plt.figure(figsize = (8,6))\n",
    "plt.scatter(x,y, color=\"red\")\n",
    "plt.plot(x,reg_line)\n",
    "plt.xlabel(\"Year Of Experience\",fontsize=15)\n",
    "plt.ylabel(\"Salary in 1000$\",fontsize=15)"
   ]
  },
  {
   "cell_type": "code",
   "execution_count": 106,
   "id": "df92729e",
   "metadata": {},
   "outputs": [
    {
     "name": "stdout",
     "output_type": "stream",
     "text": [
      "Salary = 60.57 1000$\n"
     ]
    }
   ],
   "source": [
    "def predict(x,m,c):\n",
    "    ans=m * x + c\n",
    "    return ans\n",
    "\n",
    "Spending_predicted = predict(11,slope,intercept)\n",
    "print(f'Salary = {round(Spending_predicted,2)} 1000$')"
   ]
  },
  {
   "cell_type": "markdown",
   "id": "2c581a71",
   "metadata": {},
   "source": [
    "### Using Random Data Set (Linear)"
   ]
  },
  {
   "cell_type": "code",
   "execution_count": 1,
   "id": "b3457e58",
   "metadata": {},
   "outputs": [],
   "source": [
    "from sklearn.datasets import make_regression\n",
    "X,Y=make_regression(n_samples=100,n_features=1, n_informative=1,noise=20,random_state=20)\n",
    "X=X.flatten()"
   ]
  },
  {
   "cell_type": "code",
   "execution_count": 74,
   "id": "29cd5966",
   "metadata": {},
   "outputs": [
    {
     "data": {
      "text/plain": [
       "Text(0, 0.5, 'Y')"
      ]
     },
     "execution_count": 74,
     "metadata": {},
     "output_type": "execute_result"
    },
    {
     "data": {
      "image/png": "[encoded data removed]",
      "text/plain": [
       "<Figure size 864x576 with 1 Axes>"
      ]
     },
     "metadata": {
      "needs_background": "light"
     },
     "output_type": "display_data"
    }
   ],
   "source": [
    "plt.figure(figsize = (12,8))\n",
    "plt.scatter(X, Y, color='r')\n",
    "plt.xlabel(\"X\",fontsize=15)\n",
    "plt.ylabel(\"Y\",fontsize=15)"
   ]
  },
  {
   "cell_type": "code",
   "execution_count": 53,
   "id": "4676bf9a",
   "metadata": {},
   "outputs": [],
   "source": [
    "X_mean=np.mean(X)"
   ]
  },
  {
   "cell_type": "code",
   "execution_count": 54,
   "id": "71ad1be4",
   "metadata": {},
   "outputs": [],
   "source": [
    "Y_mean=np.mean(Y)"
   ]
  },
  {
   "cell_type": "code",
   "execution_count": 55,
   "id": "9a1ecdf6",
   "metadata": {},
   "outputs": [
    {
     "data": {
      "text/plain": [
       "96.23791061526042"
      ]
     },
     "execution_count": 55,
     "metadata": {},
     "output_type": "execute_result"
    }
   ],
   "source": [
    "slope= np.sum((X-X_mean)*(Y-Y_mean))/np.sum(np.square(X-X_mean))\n",
    "slope"
   ]
  },
  {
   "cell_type": "code",
   "execution_count": 56,
   "id": "c6dd2aea",
   "metadata": {},
   "outputs": [
    {
     "data": {
      "text/plain": [
       "2.2912972569160353"
      ]
     },
     "execution_count": 56,
     "metadata": {},
     "output_type": "execute_result"
    }
   ],
   "source": [
    "intercept=Y_mean-slope*X_mean\n",
    "intercept"
   ]
  },
  {
   "cell_type": "code",
   "execution_count": 61,
   "id": "a7f42a42",
   "metadata": {},
   "outputs": [],
   "source": [
    "regression_line=[ (slope*i) + intercept for i in X ]"
   ]
  },
  {
   "cell_type": "code",
   "execution_count": 75,
   "id": "33c0b8f9",
   "metadata": {},
   "outputs": [
    {
     "data": {
      "text/plain": [
       "Text(0, 0.5, 'Y')"
      ]
     },
     "execution_count": 75,
     "metadata": {},
     "output_type": "execute_result"
    },
    {
     "data": {
      "image/png": "[encoded data removed]",
      "text/plain": [
       "<Figure size 864x576 with 1 Axes>"
      ]
     },
     "metadata": {
      "needs_background": "light"
     },
     "output_type": "display_data"
    }
   ],
   "source": [
    "plt.figure(figsize = (12,8))\n",
    "plt.scatter(X,Y, color=\"red\")\n",
    "plt.plot(X,regression_line)\n",
    "plt.xlabel(\"X\",fontsize=15)\n",
    "plt.ylabel(\"Y\",fontsize=15)"
   ]
  },
  {
   "cell_type": "code",
   "execution_count": null,
   "id": "d6916957",
   "metadata": {},
   "outputs": [],
   "source": []
  }
 ],
 "metadata": {
  "kernelspec": {
   "display_name": "Python 3",
   "language": "python",
   "name": "python3"
  },
  "language_info": {
   "codemirror_mode": {
    "name": "ipython",
    "version": 3
   },
   "file_extension": ".py",
   "mimetype": "text/x-python",
   "name": "python",
   "nbconvert_exporter": "python",
   "pygments_lexer": "ipython3",
   "version": "3.8.8"
  }
 },
 "nbformat": 4,
 "nbformat_minor": 5
}
