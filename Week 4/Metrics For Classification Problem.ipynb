{
 "cells": [
  {
   "cell_type": "markdown",
   "id": "d48781db",
   "metadata": {},
   "source": [
    "1- Confusion Matrix\n",
    "\n",
    "2- False +ve Rate FPR (Type 1 error)\n",
    "\n",
    "3- False -ve Rate FNR (Type 2 error)\n",
    "\n",
    "4- Recall (TPR, Sensitivity)\n",
    "\n",
    "5- Precision (TNR, Specificity)\n",
    "\n",
    "6- Accuracy\n",
    "\n",
    "7- F-beta\n",
    "\n",
    "8- ROC AUC curve"
   ]
  },
  {
   "cell_type": "code",
   "execution_count": 3,
   "id": "16c34a4a",
   "metadata": {},
   "outputs": [],
   "source": [
    "from sklearn.metrics import confusion_matrix, accuracy_score, recall_score, fbeta_score, precision_score, classification_report"
   ]
  },
  {
   "cell_type": "code",
   "execution_count": 8,
   "id": "6f95ebe7",
   "metadata": {},
   "outputs": [],
   "source": [
    "y_true=[1]*90 + [0]*10\n",
    "y_pre=[1]*100"
   ]
  },
  {
   "cell_type": "code",
   "execution_count": 9,
   "id": "02088e61",
   "metadata": {},
   "outputs": [
    {
     "data": {
      "text/plain": [
       "0.9"
      ]
     },
     "execution_count": 9,
     "metadata": {},
     "output_type": "execute_result"
    }
   ],
   "source": [
    "accuracy_score(y_true,y_pre)"
   ]
  },
  {
   "cell_type": "code",
   "execution_count": 13,
   "id": "9caf7f56",
   "metadata": {},
   "outputs": [
    {
     "name": "stdout",
     "output_type": "stream",
     "text": [
      "              precision    recall  f1-score   support\n",
      "\n",
      "           0       0.00      0.00      0.00        10\n",
      "           1       0.90      1.00      0.95        90\n",
      "\n",
      "    accuracy                           0.90       100\n",
      "   macro avg       0.45      0.50      0.47       100\n",
      "weighted avg       0.81      0.90      0.85       100\n",
      "\n"
     ]
    },
    {
     "name": "stderr",
     "output_type": "stream",
     "text": [
      "C:\\ProgramData\\Anaconda3\\lib\\site-packages\\sklearn\\metrics\\_classification.py:1245: UndefinedMetricWarning: Precision and F-score are ill-defined and being set to 0.0 in labels with no predicted samples. Use `zero_division` parameter to control this behavior.\n",
      "  _warn_prf(average, modifier, msg_start, len(result))\n",
      "C:\\ProgramData\\Anaconda3\\lib\\site-packages\\sklearn\\metrics\\_classification.py:1245: UndefinedMetricWarning: Precision and F-score are ill-defined and being set to 0.0 in labels with no predicted samples. Use `zero_division` parameter to control this behavior.\n",
      "  _warn_prf(average, modifier, msg_start, len(result))\n",
      "C:\\ProgramData\\Anaconda3\\lib\\site-packages\\sklearn\\metrics\\_classification.py:1245: UndefinedMetricWarning: Precision and F-score are ill-defined and being set to 0.0 in labels with no predicted samples. Use `zero_division` parameter to control this behavior.\n",
      "  _warn_prf(average, modifier, msg_start, len(result))\n"
     ]
    }
   ],
   "source": [
    "print(classification_report(y_true,y_pre))"
   ]
  },
  {
   "cell_type": "code",
   "execution_count": 11,
   "id": "c465c3b5",
   "metadata": {},
   "outputs": [
    {
     "data": {
      "text/plain": [
       "0.9"
      ]
     },
     "execution_count": 11,
     "metadata": {},
     "output_type": "execute_result"
    }
   ],
   "source": [
    "precision_score(y_true,y_pre)"
   ]
  },
  {
   "cell_type": "code",
   "execution_count": null,
   "id": "2f55a5ad",
   "metadata": {},
   "outputs": [],
   "source": []
  }
 ],
 "metadata": {
  "kernelspec": {
   "display_name": "Python 3",
   "language": "python",
   "name": "python3"
  },
  "language_info": {
   "codemirror_mode": {
    "name": "ipython",
    "version": 3
   },
   "file_extension": ".py",
   "mimetype": "text/x-python",
   "name": "python",
   "nbconvert_exporter": "python",
   "pygments_lexer": "ipython3",
   "version": "3.8.8"
  }
 },
 "nbformat": 4,
 "nbformat_minor": 5
}
