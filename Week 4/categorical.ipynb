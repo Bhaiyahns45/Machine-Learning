{
 "cells": [
  {
   "cell_type": "code",
   "execution_count": 1,
   "id": "43689adb",
   "metadata": {},
   "outputs": [],
   "source": [
    "import matplotlib.pyplot as plt\n",
    "import seaborn as sns\n",
    "import numpy as np\n",
    "import pandas as pd\n",
    "from numpy import random\n",
    "import random\n",
    "from pprint import pprint"
   ]
  },
  {
   "cell_type": "code",
   "execution_count": 2,
   "id": "aec25dd1",
   "metadata": {},
   "outputs": [
    {
     "data": {
      "text/html": [
       "<div>\n",
       "<style scoped>\n",
       "    .dataframe tbody tr th:only-of-type {\n",
       "        vertical-align: middle;\n",
       "    }\n",
       "\n",
       "    .dataframe tbody tr th {\n",
       "        vertical-align: top;\n",
       "    }\n",
       "\n",
       "    .dataframe thead th {\n",
       "        text-align: right;\n",
       "    }\n",
       "</style>\n",
       "<table border=\"1\" class=\"dataframe\">\n",
       "  <thead>\n",
       "    <tr style=\"text-align: right;\">\n",
       "      <th></th>\n",
       "      <th>PassengerId</th>\n",
       "      <th>Survived</th>\n",
       "      <th>Pclass</th>\n",
       "      <th>Name</th>\n",
       "      <th>Sex</th>\n",
       "      <th>Age</th>\n",
       "      <th>SibSp</th>\n",
       "      <th>Parch</th>\n",
       "      <th>Ticket</th>\n",
       "      <th>Fare</th>\n",
       "      <th>Cabin</th>\n",
       "      <th>Embarked</th>\n",
       "    </tr>\n",
       "  </thead>\n",
       "  <tbody>\n",
       "    <tr>\n",
       "      <th>0</th>\n",
       "      <td>1</td>\n",
       "      <td>0</td>\n",
       "      <td>3</td>\n",
       "      <td>Braund, Mr. Owen Harris</td>\n",
       "      <td>male</td>\n",
       "      <td>22.0</td>\n",
       "      <td>1</td>\n",
       "      <td>0</td>\n",
       "      <td>A/5 21171</td>\n",
       "      <td>7.2500</td>\n",
       "      <td>NaN</td>\n",
       "      <td>S</td>\n",
       "    </tr>\n",
       "    <tr>\n",
       "      <th>1</th>\n",
       "      <td>2</td>\n",
       "      <td>1</td>\n",
       "      <td>1</td>\n",
       "      <td>Cumings, Mrs. John Bradley (Florence Briggs Th...</td>\n",
       "      <td>female</td>\n",
       "      <td>38.0</td>\n",
       "      <td>1</td>\n",
       "      <td>0</td>\n",
       "      <td>PC 17599</td>\n",
       "      <td>71.2833</td>\n",
       "      <td>C85</td>\n",
       "      <td>C</td>\n",
       "    </tr>\n",
       "    <tr>\n",
       "      <th>2</th>\n",
       "      <td>3</td>\n",
       "      <td>1</td>\n",
       "      <td>3</td>\n",
       "      <td>Heikkinen, Miss. Laina</td>\n",
       "      <td>female</td>\n",
       "      <td>26.0</td>\n",
       "      <td>0</td>\n",
       "      <td>0</td>\n",
       "      <td>STON/O2. 3101282</td>\n",
       "      <td>7.9250</td>\n",
       "      <td>NaN</td>\n",
       "      <td>S</td>\n",
       "    </tr>\n",
       "    <tr>\n",
       "      <th>3</th>\n",
       "      <td>4</td>\n",
       "      <td>1</td>\n",
       "      <td>1</td>\n",
       "      <td>Futrelle, Mrs. Jacques Heath (Lily May Peel)</td>\n",
       "      <td>female</td>\n",
       "      <td>35.0</td>\n",
       "      <td>1</td>\n",
       "      <td>0</td>\n",
       "      <td>113803</td>\n",
       "      <td>53.1000</td>\n",
       "      <td>C123</td>\n",
       "      <td>S</td>\n",
       "    </tr>\n",
       "    <tr>\n",
       "      <th>4</th>\n",
       "      <td>5</td>\n",
       "      <td>0</td>\n",
       "      <td>3</td>\n",
       "      <td>Allen, Mr. William Henry</td>\n",
       "      <td>male</td>\n",
       "      <td>35.0</td>\n",
       "      <td>0</td>\n",
       "      <td>0</td>\n",
       "      <td>373450</td>\n",
       "      <td>8.0500</td>\n",
       "      <td>NaN</td>\n",
       "      <td>S</td>\n",
       "    </tr>\n",
       "    <tr>\n",
       "      <th>...</th>\n",
       "      <td>...</td>\n",
       "      <td>...</td>\n",
       "      <td>...</td>\n",
       "      <td>...</td>\n",
       "      <td>...</td>\n",
       "      <td>...</td>\n",
       "      <td>...</td>\n",
       "      <td>...</td>\n",
       "      <td>...</td>\n",
       "      <td>...</td>\n",
       "      <td>...</td>\n",
       "      <td>...</td>\n",
       "    </tr>\n",
       "    <tr>\n",
       "      <th>886</th>\n",
       "      <td>887</td>\n",
       "      <td>0</td>\n",
       "      <td>2</td>\n",
       "      <td>Montvila, Rev. Juozas</td>\n",
       "      <td>male</td>\n",
       "      <td>27.0</td>\n",
       "      <td>0</td>\n",
       "      <td>0</td>\n",
       "      <td>211536</td>\n",
       "      <td>13.0000</td>\n",
       "      <td>NaN</td>\n",
       "      <td>S</td>\n",
       "    </tr>\n",
       "    <tr>\n",
       "      <th>887</th>\n",
       "      <td>888</td>\n",
       "      <td>1</td>\n",
       "      <td>1</td>\n",
       "      <td>Graham, Miss. Margaret Edith</td>\n",
       "      <td>female</td>\n",
       "      <td>19.0</td>\n",
       "      <td>0</td>\n",
       "      <td>0</td>\n",
       "      <td>112053</td>\n",
       "      <td>30.0000</td>\n",
       "      <td>B42</td>\n",
       "      <td>S</td>\n",
       "    </tr>\n",
       "    <tr>\n",
       "      <th>888</th>\n",
       "      <td>889</td>\n",
       "      <td>0</td>\n",
       "      <td>3</td>\n",
       "      <td>Johnston, Miss. Catherine Helen \"Carrie\"</td>\n",
       "      <td>female</td>\n",
       "      <td>NaN</td>\n",
       "      <td>1</td>\n",
       "      <td>2</td>\n",
       "      <td>W./C. 6607</td>\n",
       "      <td>23.4500</td>\n",
       "      <td>NaN</td>\n",
       "      <td>S</td>\n",
       "    </tr>\n",
       "    <tr>\n",
       "      <th>889</th>\n",
       "      <td>890</td>\n",
       "      <td>1</td>\n",
       "      <td>1</td>\n",
       "      <td>Behr, Mr. Karl Howell</td>\n",
       "      <td>male</td>\n",
       "      <td>26.0</td>\n",
       "      <td>0</td>\n",
       "      <td>0</td>\n",
       "      <td>111369</td>\n",
       "      <td>30.0000</td>\n",
       "      <td>C148</td>\n",
       "      <td>C</td>\n",
       "    </tr>\n",
       "    <tr>\n",
       "      <th>890</th>\n",
       "      <td>891</td>\n",
       "      <td>0</td>\n",
       "      <td>3</td>\n",
       "      <td>Dooley, Mr. Patrick</td>\n",
       "      <td>male</td>\n",
       "      <td>32.0</td>\n",
       "      <td>0</td>\n",
       "      <td>0</td>\n",
       "      <td>370376</td>\n",
       "      <td>7.7500</td>\n",
       "      <td>NaN</td>\n",
       "      <td>Q</td>\n",
       "    </tr>\n",
       "  </tbody>\n",
       "</table>\n",
       "<p>891 rows × 12 columns</p>\n",
       "</div>"
      ],
      "text/plain": [
       "     PassengerId  Survived  Pclass  \\\n",
       "0              1         0       3   \n",
       "1              2         1       1   \n",
       "2              3         1       3   \n",
       "3              4         1       1   \n",
       "4              5         0       3   \n",
       "..           ...       ...     ...   \n",
       "886          887         0       2   \n",
       "887          888         1       1   \n",
       "888          889         0       3   \n",
       "889          890         1       1   \n",
       "890          891         0       3   \n",
       "\n",
       "                                                  Name     Sex   Age  SibSp  \\\n",
       "0                              Braund, Mr. Owen Harris    male  22.0      1   \n",
       "1    Cumings, Mrs. John Bradley (Florence Briggs Th...  female  38.0      1   \n",
       "2                               Heikkinen, Miss. Laina  female  26.0      0   \n",
       "3         Futrelle, Mrs. Jacques Heath (Lily May Peel)  female  35.0      1   \n",
       "4                             Allen, Mr. William Henry    male  35.0      0   \n",
       "..                                                 ...     ...   ...    ...   \n",
       "886                              Montvila, Rev. Juozas    male  27.0      0   \n",
       "887                       Graham, Miss. Margaret Edith  female  19.0      0   \n",
       "888           Johnston, Miss. Catherine Helen \"Carrie\"  female   NaN      1   \n",
       "889                              Behr, Mr. Karl Howell    male  26.0      0   \n",
       "890                                Dooley, Mr. Patrick    male  32.0      0   \n",
       "\n",
       "     Parch            Ticket     Fare Cabin Embarked  \n",
       "0        0         A/5 21171   7.2500   NaN        S  \n",
       "1        0          PC 17599  71.2833   C85        C  \n",
       "2        0  STON/O2. 3101282   7.9250   NaN        S  \n",
       "3        0            113803  53.1000  C123        S  \n",
       "4        0            373450   8.0500   NaN        S  \n",
       "..     ...               ...      ...   ...      ...  \n",
       "886      0            211536  13.0000   NaN        S  \n",
       "887      0            112053  30.0000   B42        S  \n",
       "888      2        W./C. 6607  23.4500   NaN        S  \n",
       "889      0            111369  30.0000  C148        C  \n",
       "890      0            370376   7.7500   NaN        Q  \n",
       "\n",
       "[891 rows x 12 columns]"
      ]
     },
     "execution_count": 2,
     "metadata": {},
     "output_type": "execute_result"
    }
   ],
   "source": [
    "data=pd.read_csv('D:\\\\Data_sets\\\\titanic.csv')\n",
    "data"
   ]
  },
  {
   "cell_type": "code",
   "execution_count": 3,
   "id": "b9a65e00",
   "metadata": {},
   "outputs": [],
   "source": [
    "df=data[['Pclass','Sex','Survived']]"
   ]
  },
  {
   "cell_type": "code",
   "execution_count": 4,
   "id": "ea9b010f",
   "metadata": {},
   "outputs": [
    {
     "data": {
      "text/html": [
       "<div>\n",
       "<style scoped>\n",
       "    .dataframe tbody tr th:only-of-type {\n",
       "        vertical-align: middle;\n",
       "    }\n",
       "\n",
       "    .dataframe tbody tr th {\n",
       "        vertical-align: top;\n",
       "    }\n",
       "\n",
       "    .dataframe thead th {\n",
       "        text-align: right;\n",
       "    }\n",
       "</style>\n",
       "<table border=\"1\" class=\"dataframe\">\n",
       "  <thead>\n",
       "    <tr style=\"text-align: right;\">\n",
       "      <th></th>\n",
       "      <th>Pclass</th>\n",
       "      <th>Sex</th>\n",
       "      <th>Survived</th>\n",
       "    </tr>\n",
       "  </thead>\n",
       "  <tbody>\n",
       "    <tr>\n",
       "      <th>0</th>\n",
       "      <td>3</td>\n",
       "      <td>male</td>\n",
       "      <td>0</td>\n",
       "    </tr>\n",
       "    <tr>\n",
       "      <th>1</th>\n",
       "      <td>1</td>\n",
       "      <td>female</td>\n",
       "      <td>1</td>\n",
       "    </tr>\n",
       "    <tr>\n",
       "      <th>2</th>\n",
       "      <td>3</td>\n",
       "      <td>female</td>\n",
       "      <td>1</td>\n",
       "    </tr>\n",
       "    <tr>\n",
       "      <th>3</th>\n",
       "      <td>1</td>\n",
       "      <td>female</td>\n",
       "      <td>1</td>\n",
       "    </tr>\n",
       "    <tr>\n",
       "      <th>4</th>\n",
       "      <td>3</td>\n",
       "      <td>male</td>\n",
       "      <td>0</td>\n",
       "    </tr>\n",
       "    <tr>\n",
       "      <th>...</th>\n",
       "      <td>...</td>\n",
       "      <td>...</td>\n",
       "      <td>...</td>\n",
       "    </tr>\n",
       "    <tr>\n",
       "      <th>886</th>\n",
       "      <td>2</td>\n",
       "      <td>male</td>\n",
       "      <td>0</td>\n",
       "    </tr>\n",
       "    <tr>\n",
       "      <th>887</th>\n",
       "      <td>1</td>\n",
       "      <td>female</td>\n",
       "      <td>1</td>\n",
       "    </tr>\n",
       "    <tr>\n",
       "      <th>888</th>\n",
       "      <td>3</td>\n",
       "      <td>female</td>\n",
       "      <td>0</td>\n",
       "    </tr>\n",
       "    <tr>\n",
       "      <th>889</th>\n",
       "      <td>1</td>\n",
       "      <td>male</td>\n",
       "      <td>1</td>\n",
       "    </tr>\n",
       "    <tr>\n",
       "      <th>890</th>\n",
       "      <td>3</td>\n",
       "      <td>male</td>\n",
       "      <td>0</td>\n",
       "    </tr>\n",
       "  </tbody>\n",
       "</table>\n",
       "<p>891 rows × 3 columns</p>\n",
       "</div>"
      ],
      "text/plain": [
       "     Pclass     Sex  Survived\n",
       "0         3    male         0\n",
       "1         1  female         1\n",
       "2         3  female         1\n",
       "3         1  female         1\n",
       "4         3    male         0\n",
       "..      ...     ...       ...\n",
       "886       2    male         0\n",
       "887       1  female         1\n",
       "888       3  female         0\n",
       "889       1    male         1\n",
       "890       3    male         0\n",
       "\n",
       "[891 rows x 3 columns]"
      ]
     },
     "execution_count": 4,
     "metadata": {},
     "output_type": "execute_result"
    }
   ],
   "source": [
    "df"
   ]
  },
  {
   "cell_type": "code",
   "execution_count": 5,
   "id": "9843527a",
   "metadata": {},
   "outputs": [
    {
     "data": {
      "text/plain": [
       "Pclass       int64\n",
       "Sex         object\n",
       "Survived     int64\n",
       "dtype: object"
      ]
     },
     "execution_count": 5,
     "metadata": {},
     "output_type": "execute_result"
    }
   ],
   "source": [
    "df.dtypes"
   ]
  },
  {
   "cell_type": "code",
   "execution_count": 6,
   "id": "f965dcbd",
   "metadata": {},
   "outputs": [
    {
     "data": {
      "text/plain": [
       "Pclass      0\n",
       "Sex         0\n",
       "Survived    0\n",
       "dtype: int64"
      ]
     },
     "execution_count": 6,
     "metadata": {},
     "output_type": "execute_result"
    }
   ],
   "source": [
    "df.isnull().sum()"
   ]
  },
  {
   "cell_type": "code",
   "execution_count": 26,
   "id": "648add38",
   "metadata": {},
   "outputs": [],
   "source": [
    "def train_test_split(df, test_size):\n",
    "    \n",
    "    if isinstance(test_size, float):\n",
    "        test_size = round(test_size * len(df))\n",
    "\n",
    "    indices = df.index.tolist()\n",
    "#     print(indices)\n",
    "    \n",
    "    test_indices = random.sample(population=indices, k=test_size)\n",
    "\n",
    "    test_df = df.loc[test_indices]\n",
    "    train_df = df.drop(test_indices)\n",
    "    \n",
    "    return train_df, test_df"
   ]
  },
  {
   "cell_type": "code",
   "execution_count": 27,
   "id": "e354ca24",
   "metadata": {},
   "outputs": [],
   "source": [
    "random.seed(0)\n",
    "train_df, test_df = train_test_split(df, test_size=0.2)"
   ]
  },
  {
   "cell_type": "code",
   "execution_count": 28,
   "id": "31cd2a80",
   "metadata": {},
   "outputs": [
    {
     "data": {
      "text/plain": [
       "(713, 3)"
      ]
     },
     "execution_count": 28,
     "metadata": {},
     "output_type": "execute_result"
    }
   ],
   "source": [
    "train_df.shape"
   ]
  },
  {
   "cell_type": "code",
   "execution_count": 29,
   "id": "9c2396a8",
   "metadata": {},
   "outputs": [
    {
     "data": {
      "text/plain": [
       "(178, 3)"
      ]
     },
     "execution_count": 29,
     "metadata": {},
     "output_type": "execute_result"
    }
   ],
   "source": [
    "test_df.shape"
   ]
  },
  {
   "cell_type": "code",
   "execution_count": null,
   "id": "f0b64cbd",
   "metadata": {},
   "outputs": [],
   "source": []
  },
  {
   "cell_type": "code",
   "execution_count": 30,
   "id": "7712a39f",
   "metadata": {},
   "outputs": [
    {
     "data": {
      "text/plain": [
       "Index(['Pclass', 'Sex', 'Survived'], dtype='object')"
      ]
     },
     "execution_count": 30,
     "metadata": {},
     "output_type": "execute_result"
    }
   ],
   "source": [
    "train_df.columns"
   ]
  },
  {
   "cell_type": "code",
   "execution_count": 31,
   "id": "aa5d595e",
   "metadata": {},
   "outputs": [
    {
     "name": "stdout",
     "output_type": "stream",
     "text": [
      "Pclass 3\n",
      "Sex 2\n",
      "Survived 2\n"
     ]
    }
   ],
   "source": [
    "for i in train_df.columns:\n",
    "    print(i,len(df[i].unique()))"
   ]
  },
  {
   "cell_type": "code",
   "execution_count": null,
   "id": "c238a2ea",
   "metadata": {},
   "outputs": [],
   "source": []
  },
  {
   "cell_type": "code",
   "execution_count": null,
   "id": "c9b38ff6",
   "metadata": {},
   "outputs": [],
   "source": []
  },
  {
   "cell_type": "code",
   "execution_count": null,
   "id": "b3b7af8a",
   "metadata": {},
   "outputs": [],
   "source": []
  },
  {
   "cell_type": "code",
   "execution_count": null,
   "id": "58397de5",
   "metadata": {},
   "outputs": [],
   "source": []
  },
  {
   "cell_type": "code",
   "execution_count": null,
   "id": "c4d69ade",
   "metadata": {},
   "outputs": [],
   "source": []
  },
  {
   "cell_type": "code",
   "execution_count": null,
   "id": "a4c91be4",
   "metadata": {},
   "outputs": [],
   "source": []
  },
  {
   "cell_type": "code",
   "execution_count": null,
   "id": "2ebc0245",
   "metadata": {},
   "outputs": [],
   "source": []
  },
  {
   "cell_type": "code",
   "execution_count": 32,
   "id": "e7bb0d6f",
   "metadata": {},
   "outputs": [],
   "source": [
    "## Determine the type of variable"
   ]
  },
  {
   "cell_type": "code",
   "execution_count": 33,
   "id": "26002f96",
   "metadata": {},
   "outputs": [],
   "source": [
    "def determine_type_of_feature(df):\n",
    "    \n",
    "    feature_types = []\n",
    "    n_unique_values_treshold = 15\n",
    "    for feature in df.columns:\n",
    "        if feature != \"label\":\n",
    "            unique_values = df[feature].unique()\n",
    "            \n",
    "#             print(isinstance(unique_values[0],str))\n",
    "            \n",
    "            example_value = unique_values[0]\n",
    "\n",
    "            if (isinstance(example_value, str)) or (len(unique_values) <= n_unique_values_treshold):\n",
    "                feature_types.append(\"categorical\")\n",
    "            else:\n",
    "                feature_types.append(\"continuous\")\n",
    "    \n",
    "    return feature_types"
   ]
  },
  {
   "cell_type": "code",
   "execution_count": 34,
   "id": "a1a08168",
   "metadata": {},
   "outputs": [
    {
     "data": {
      "text/plain": [
       "['categorical', 'categorical', 'categorical']"
      ]
     },
     "execution_count": 34,
     "metadata": {},
     "output_type": "execute_result"
    }
   ],
   "source": [
    "determine_type_of_feature(train_df)"
   ]
  },
  {
   "cell_type": "code",
   "execution_count": null,
   "id": "06232c0c",
   "metadata": {},
   "outputs": [],
   "source": []
  },
  {
   "cell_type": "code",
   "execution_count": 35,
   "id": "b2a8ada9",
   "metadata": {},
   "outputs": [],
   "source": [
    "def check_purity(data):\n",
    "    \n",
    "    label_column = data[:, -1]\n",
    "    unique_classes = np.unique(label_column)\n",
    "\n",
    "    if len(unique_classes) == 1:\n",
    "        return True\n",
    "    else:\n",
    "        return False"
   ]
  },
  {
   "cell_type": "code",
   "execution_count": 36,
   "id": "046bb401",
   "metadata": {},
   "outputs": [
    {
     "data": {
      "text/plain": [
       "False"
      ]
     },
     "execution_count": 36,
     "metadata": {},
     "output_type": "execute_result"
    }
   ],
   "source": [
    "check_purity(train_df.values)"
   ]
  },
  {
   "cell_type": "code",
   "execution_count": null,
   "id": "6f046a5e",
   "metadata": {},
   "outputs": [],
   "source": []
  },
  {
   "cell_type": "code",
   "execution_count": 37,
   "id": "1406ee5f",
   "metadata": {},
   "outputs": [],
   "source": [
    "def classify_data(data):\n",
    "    \n",
    "    label_column = data[:, -1]\n",
    "    unique_classes, counts_unique_classes = np.unique(label_column, return_counts=True)\n",
    "\n",
    "    index = counts_unique_classes.argmax()\n",
    "    classification = unique_classes[index]\n",
    "    \n",
    "    return classification"
   ]
  },
  {
   "cell_type": "code",
   "execution_count": null,
   "id": "f171353a",
   "metadata": {},
   "outputs": [],
   "source": []
  },
  {
   "cell_type": "code",
   "execution_count": 38,
   "id": "c7294997",
   "metadata": {},
   "outputs": [],
   "source": [
    "def split_data(data, split_column, split_value):\n",
    "    \n",
    "    split_column_values = data[:, split_column]\n",
    "\n",
    "    \n",
    "  \n",
    "    data_below = data[split_column_values == split_value]\n",
    "    data_above = data[split_column_values != split_value]\n",
    "    \n",
    "    return data_below, data_above"
   ]
  },
  {
   "cell_type": "code",
   "execution_count": 39,
   "id": "6336b1dc",
   "metadata": {},
   "outputs": [],
   "source": [
    "# df.values[:, 0]"
   ]
  },
  {
   "cell_type": "code",
   "execution_count": 40,
   "id": "622cc883",
   "metadata": {},
   "outputs": [],
   "source": [
    "b,a=split_data(train_df.values,split_column=0, split_value=2)"
   ]
  },
  {
   "cell_type": "code",
   "execution_count": 41,
   "id": "96323f61",
   "metadata": {},
   "outputs": [
    {
     "data": {
      "text/plain": [
       "array([2], dtype=object)"
      ]
     },
     "execution_count": 41,
     "metadata": {},
     "output_type": "execute_result"
    }
   ],
   "source": [
    "np.unique(b[:,0])"
   ]
  },
  {
   "cell_type": "code",
   "execution_count": 42,
   "id": "071fe7af",
   "metadata": {},
   "outputs": [
    {
     "data": {
      "text/plain": [
       "array([1, 3], dtype=object)"
      ]
     },
     "execution_count": 42,
     "metadata": {},
     "output_type": "execute_result"
    }
   ],
   "source": [
    "np.unique(a[:,0])"
   ]
  },
  {
   "cell_type": "code",
   "execution_count": 43,
   "id": "1b9e179d",
   "metadata": {},
   "outputs": [],
   "source": [
    "def get_potential_splits(data):\n",
    "    \n",
    "    potential_splits = {}\n",
    "    _, n_columns = data.shape\n",
    "    for column_index in range(n_columns - 1):          # excluding the last column which is the label\n",
    "        values = data[:, column_index]\n",
    "        unique_values = np.unique(values)\n",
    "        \n",
    "        print('length',len(unique_values))\n",
    "        \n",
    "        if len(unique_values)>1:\n",
    "            potential_splits[column_index] = unique_values\n",
    "    \n",
    "        potential_splits[column_index] = unique_values\n",
    "        \n",
    "    return potential_splits"
   ]
  },
  {
   "cell_type": "code",
   "execution_count": 44,
   "id": "26396522",
   "metadata": {},
   "outputs": [
    {
     "data": {
      "text/plain": [
       "array([[3, 'male', 0],\n",
       "       [3, 'female', 1],\n",
       "       [1, 'female', 1],\n",
       "       ...,\n",
       "       [3, 'female', 0],\n",
       "       [2, 'male', 0],\n",
       "       [1, 'female', 1]], dtype=object)"
      ]
     },
     "execution_count": 44,
     "metadata": {},
     "output_type": "execute_result"
    }
   ],
   "source": [
    "train_df.values"
   ]
  },
  {
   "cell_type": "code",
   "execution_count": 45,
   "id": "3e0082d0",
   "metadata": {},
   "outputs": [
    {
     "name": "stdout",
     "output_type": "stream",
     "text": [
      "length 3\n",
      "length 2\n"
     ]
    },
    {
     "data": {
      "text/plain": [
       "{0: array([1, 2, 3], dtype=object), 1: array(['female', 'male'], dtype=object)}"
      ]
     },
     "execution_count": 45,
     "metadata": {},
     "output_type": "execute_result"
    }
   ],
   "source": [
    "get_potential_splits(train_df.values)"
   ]
  },
  {
   "cell_type": "code",
   "execution_count": null,
   "id": "0c52c751",
   "metadata": {},
   "outputs": [],
   "source": []
  },
  {
   "cell_type": "code",
   "execution_count": null,
   "id": "688e85b2",
   "metadata": {},
   "outputs": [],
   "source": []
  },
  {
   "cell_type": "code",
   "execution_count": null,
   "id": "6abe4575",
   "metadata": {},
   "outputs": [],
   "source": []
  },
  {
   "cell_type": "code",
   "execution_count": null,
   "id": "0ebb884f",
   "metadata": {},
   "outputs": [],
   "source": []
  },
  {
   "cell_type": "code",
   "execution_count": null,
   "id": "7bb44ace",
   "metadata": {},
   "outputs": [],
   "source": []
  },
  {
   "cell_type": "code",
   "execution_count": null,
   "id": "b7443b22",
   "metadata": {},
   "outputs": [],
   "source": []
  },
  {
   "cell_type": "code",
   "execution_count": 46,
   "id": "1254e9c6",
   "metadata": {},
   "outputs": [],
   "source": [
    "def calculate_entropy(data):\n",
    "    \n",
    "    label_column = data[:, -1]\n",
    "    _, counts = np.unique(label_column, return_counts=True)\n",
    "\n",
    "    probabilities = counts / counts.sum()\n",
    "    entropy = sum(probabilities * -np.log2(probabilities))\n",
    "     \n",
    "    return entropy"
   ]
  },
  {
   "cell_type": "code",
   "execution_count": 47,
   "id": "d98cbf75",
   "metadata": {},
   "outputs": [
    {
     "data": {
      "text/plain": [
       "0.9590852514215054"
      ]
     },
     "execution_count": 47,
     "metadata": {},
     "output_type": "execute_result"
    }
   ],
   "source": [
    "calculate_entropy(train_df.values)"
   ]
  },
  {
   "cell_type": "code",
   "execution_count": null,
   "id": "17eb891d",
   "metadata": {},
   "outputs": [],
   "source": []
  },
  {
   "cell_type": "code",
   "execution_count": 48,
   "id": "4ce1ff62",
   "metadata": {},
   "outputs": [],
   "source": [
    "def entropy(sample):\n",
    "    \n",
    "    probabilities=[]\n",
    "    for i in sample:\n",
    "        prob=i/sum(sample)\n",
    "        probabilities.append(prob)\n",
    "        \n",
    "    \n",
    "    entropy = sum(probabilities * -np.log2(probabilities))\n",
    "     \n",
    "    return entropy"
   ]
  },
  {
   "cell_type": "code",
   "execution_count": 49,
   "id": "bd1bc411",
   "metadata": {},
   "outputs": [
    {
     "data": {
      "text/plain": [
       "0    441\n",
       "1    272\n",
       "Name: Survived, dtype: int64"
      ]
     },
     "execution_count": 49,
     "metadata": {},
     "output_type": "execute_result"
    }
   ],
   "source": [
    "train_df.Survived.value_counts()"
   ]
  },
  {
   "cell_type": "code",
   "execution_count": 50,
   "id": "1995bd0b",
   "metadata": {},
   "outputs": [
    {
     "data": {
      "text/plain": [
       "1.5810951599090195"
      ]
     },
     "execution_count": 50,
     "metadata": {},
     "output_type": "execute_result"
    }
   ],
   "source": [
    "entropy([39,37,44])"
   ]
  },
  {
   "cell_type": "code",
   "execution_count": null,
   "id": "d057e3a5",
   "metadata": {},
   "outputs": [],
   "source": []
  },
  {
   "cell_type": "code",
   "execution_count": 51,
   "id": "25ab426c",
   "metadata": {},
   "outputs": [],
   "source": [
    "def calculate_overall_entropy(data_below, data_above):\n",
    "    \n",
    "#     print(data_below)\n",
    "#     print('**********************************************')\n",
    "    n = len(data_below) + len(data_above)\n",
    "    p_data_below = len(data_below) / n\n",
    "    p_data_above = len(data_above) / n\n",
    "    \n",
    "    \n",
    "    print(calculate_entropy(data_below))\n",
    "    print('------------------------')\n",
    "    print(calculate_entropy(data_above))\n",
    "\n",
    "    overall_entropy =  (p_data_below * calculate_entropy(data_below) \n",
    "                      + p_data_above * calculate_entropy(data_above))\n",
    "    \n",
    "    return overall_entropy"
   ]
  },
  {
   "cell_type": "code",
   "execution_count": null,
   "id": "22ae1b5b",
   "metadata": {},
   "outputs": [],
   "source": []
  },
  {
   "cell_type": "code",
   "execution_count": null,
   "id": "ebc42b01",
   "metadata": {},
   "outputs": [],
   "source": []
  },
  {
   "cell_type": "code",
   "execution_count": null,
   "id": "369a7208",
   "metadata": {},
   "outputs": [],
   "source": []
  },
  {
   "cell_type": "code",
   "execution_count": 52,
   "id": "7c26935e",
   "metadata": {},
   "outputs": [],
   "source": [
    "def determine_best_split(data, potential_splits):\n",
    "    \n",
    "#     print(data)\n",
    "    \n",
    "#     print(potential_splits)\n",
    "    \n",
    "#     small=[]\n",
    "    \n",
    "    overall_entropy = 9999\n",
    "    for column_index in potential_splits:\n",
    "        \n",
    "        \n",
    "        \n",
    "        for value in potential_splits[column_index]:\n",
    "            \n",
    "            \n",
    "            data_below, data_above = split_data(data, split_column=column_index, split_value=value)\n",
    "#             print('split value=',np.unique(data_below[:,column_index]), np.unique(data_above[:,column_index]))\n",
    "            current_overall_entropy = calculate_overall_entropy(data_below, data_above)\n",
    "            \n",
    "            \n",
    "            \n",
    "            unique, counts1 = np.unique(data_below[:,2], return_counts=True)\n",
    "            unique, counts2 = np.unique(data_above[:,2], return_counts=True)\n",
    "    \n",
    "            print(counts1, counts2)\n",
    "            \n",
    "            \n",
    "#             small.append([column_index,value,current_overall_entropy])\n",
    "            \n",
    "            if current_overall_entropy <= overall_entropy:\n",
    "                overall_entropy = current_overall_entropy\n",
    "                best_split_column = column_index\n",
    "                best_split_value = value\n",
    "            print('overall entropy=',overall_entropy)\n",
    "            print('*************************************************************')\n",
    "                \n",
    "                \n",
    "    print('column split=',best_split_column, best_split_value)\n",
    "    print('selected #######################################################',current_overall_entropy)\n",
    "    \n",
    "#     print(small)\n",
    "    \n",
    "    \n",
    "    \n",
    "    return best_split_column, best_split_value"
   ]
  },
  {
   "cell_type": "code",
   "execution_count": 53,
   "id": "4da47cba",
   "metadata": {
    "scrolled": true
   },
   "outputs": [
    {
     "name": "stdout",
     "output_type": "stream",
     "text": [
      "length 3\n",
      "length 2\n",
      "0.9627730052387542\n",
      "------------------------\n",
      "0.8932793316597367\n",
      "[ 65 103] [376 169]\n",
      "overall entropy= 0.9096537175801784\n",
      "*************************************************************\n",
      "1.0\n",
      "------------------------\n",
      "0.9353951178931705\n",
      "[72 72] [369 200]\n",
      "overall entropy= 0.9096537175801784\n",
      "*************************************************************\n",
      "0.7981778534399544\n",
      "------------------------\n",
      "0.9892729241947813\n",
      "[304  97] [137 175]\n",
      "overall entropy= 0.881798697865629\n",
      "*************************************************************\n",
      "0.8112781244591328\n",
      "------------------------\n",
      "0.6801719444263874\n",
      "[ 63 189] [378  83]\n",
      "overall entropy= 0.7265096125445527\n",
      "*************************************************************\n",
      "0.6801719444263874\n",
      "------------------------\n",
      "0.8112781244591328\n",
      "[378  83] [ 63 189]\n",
      "overall entropy= 0.7265096125445527\n",
      "*************************************************************\n",
      "column split= 1 male\n",
      "selected ####################################################### 0.7265096125445527\n"
     ]
    },
    {
     "data": {
      "text/plain": [
       "(1, 'male')"
      ]
     },
     "execution_count": 53,
     "metadata": {},
     "output_type": "execute_result"
    }
   ],
   "source": [
    "determine_best_split(train_df.values, get_potential_splits(train_df.values))"
   ]
  },
  {
   "cell_type": "code",
   "execution_count": null,
   "id": "737714fa",
   "metadata": {},
   "outputs": [],
   "source": []
  },
  {
   "cell_type": "code",
   "execution_count": null,
   "id": "318a3b95",
   "metadata": {},
   "outputs": [],
   "source": []
  },
  {
   "cell_type": "code",
   "execution_count": 54,
   "id": "9fd71625",
   "metadata": {},
   "outputs": [
    {
     "data": {
      "text/plain": [
       "['categorical', 'categorical', 'categorical']"
      ]
     },
     "execution_count": 54,
     "metadata": {},
     "output_type": "execute_result"
    }
   ],
   "source": [
    "FEATURE_TYPES = determine_type_of_feature(train_df)\n",
    "FEATURE_TYPES"
   ]
  },
  {
   "cell_type": "code",
   "execution_count": null,
   "id": "74eda4f1",
   "metadata": {},
   "outputs": [],
   "source": []
  },
  {
   "cell_type": "code",
   "execution_count": null,
   "id": "97983ff2",
   "metadata": {},
   "outputs": [],
   "source": []
  },
  {
   "cell_type": "code",
   "execution_count": 55,
   "id": "3fa09dfd",
   "metadata": {},
   "outputs": [],
   "source": [
    "def decision_tree_algorithm(df, counter=0, min_samples=2, max_depth=5):\n",
    "    \n",
    "    # data preparations\n",
    "    if counter == 0:\n",
    "        global COLUMN_HEADERS, FEATURE_TYPES\n",
    "        COLUMN_HEADERS = df.columns\n",
    "        FEATURE_TYPES = determine_type_of_feature(df)\n",
    "        data = df.values\n",
    "    else:\n",
    "        data = df           \n",
    "    \n",
    "    \n",
    "    # base cases\n",
    "    if (check_purity(data)) or (len(data) < min_samples) or (counter == max_depth):\n",
    "        classification = classify_data(data)\n",
    "        \n",
    "        return classification\n",
    "\n",
    "    \n",
    "    # recursive part\n",
    "    else:    \n",
    "        counter += 1\n",
    "\n",
    "        # helper functions \n",
    "        potential_splits = get_potential_splits(data)\n",
    "#         print(potential_splits)\n",
    "        \n",
    "        if len(potential_splits)==0:\n",
    "            classification=classify_data(data)\n",
    "            return classification\n",
    "        \n",
    "        split_column, split_value = determine_best_split(data, potential_splits)\n",
    "        data_below, data_above = split_data(data, split_column, split_value)\n",
    "        \n",
    "#         print(data_below)\n",
    "        \n",
    "        # check for empty data\n",
    "        if len(data_below) == 0 or len(data_above) == 0:\n",
    "            classification = classify_data(data)\n",
    "            return classification\n",
    "        \n",
    "        # determine question\n",
    "        feature_name = COLUMN_HEADERS[split_column]\n",
    "        type_of_feature = FEATURE_TYPES[split_column]\n",
    "        if type_of_feature == \"continuous\":\n",
    "            question = \"{} <= {}\".format(feature_name, split_value)\n",
    "            \n",
    "        # feature is categorical\n",
    "        else:\n",
    "            question = \"{} = {}\".format(feature_name, split_value)\n",
    "        \n",
    "        # instantiate sub-tree\n",
    "        sub_tree = {question: []}\n",
    "        \n",
    "        # find answers (recursion)\n",
    "        yes_answer = decision_tree_algorithm(data_below, counter, min_samples, max_depth)\n",
    "        no_answer = decision_tree_algorithm(data_above, counter, min_samples, max_depth)\n",
    "        \n",
    "        # If the answers are the same, then there is no point in asking the qestion.\n",
    "        # This could happen when the data is classified even though it is not pure\n",
    "        # yet (min_samples or max_depth base case).\n",
    "        if yes_answer == no_answer:\n",
    "            sub_tree = yes_answer\n",
    "        else:\n",
    "            sub_tree[question].append(yes_answer)\n",
    "            sub_tree[question].append(no_answer)\n",
    "        \n",
    "        return sub_tree"
   ]
  },
  {
   "cell_type": "code",
   "execution_count": 56,
   "id": "4b81ee80",
   "metadata": {},
   "outputs": [
    {
     "name": "stdout",
     "output_type": "stream",
     "text": [
      "length 3\n",
      "length 2\n",
      "0.9627730052387542\n",
      "------------------------\n",
      "0.8932793316597367\n",
      "[ 65 103] [376 169]\n",
      "overall entropy= 0.9096537175801784\n",
      "*************************************************************\n",
      "1.0\n",
      "------------------------\n",
      "0.9353951178931705\n",
      "[72 72] [369 200]\n",
      "overall entropy= 0.9096537175801784\n",
      "*************************************************************\n",
      "0.7981778534399544\n",
      "------------------------\n",
      "0.9892729241947813\n",
      "[304  97] [137 175]\n",
      "overall entropy= 0.881798697865629\n",
      "*************************************************************\n",
      "0.8112781244591328\n",
      "------------------------\n",
      "0.6801719444263874\n",
      "[ 63 189] [378  83]\n",
      "overall entropy= 0.7265096125445527\n",
      "*************************************************************\n",
      "0.6801719444263874\n",
      "------------------------\n",
      "0.8112781244591328\n",
      "[378  83] [ 63 189]\n",
      "overall entropy= 0.7265096125445527\n",
      "*************************************************************\n",
      "column split= 1 male\n",
      "selected ####################################################### 0.7265096125445527\n",
      "length 3\n",
      "length 1\n",
      "0.925015873745592\n",
      "------------------------\n",
      "0.5772899021747756\n",
      "[64 33] [314  50]\n",
      "overall entropy= 0.6504556705964007\n",
      "*************************************************************\n",
      "0.6402569436810504\n",
      "------------------------\n",
      "0.6881628812026002\n",
      "[67 13] [311  70]\n",
      "overall entropy= 0.6504556705964007\n",
      "*************************************************************\n",
      "0.5582102155269127\n",
      "------------------------\n",
      "0.8265758146026101\n",
      "[247  37] [131  46]\n",
      "overall entropy= 0.6504556705964007\n",
      "*************************************************************\n",
      "0.6801719444263874\n",
      "------------------------\n",
      "0\n",
      "[378  83] []\n",
      "overall entropy= 0.6504556705964007\n",
      "*************************************************************\n",
      "column split= 0 1\n",
      "selected ####################################################### 0.6801719444263874\n",
      "length 1\n",
      "length 1\n",
      "0.925015873745592\n",
      "------------------------\n",
      "0\n",
      "[64 33] []\n",
      "overall entropy= 0.925015873745592\n",
      "*************************************************************\n",
      "0.925015873745592\n",
      "------------------------\n",
      "0\n",
      "[64 33] []\n",
      "overall entropy= 0.925015873745592\n",
      "*************************************************************\n",
      "column split= 1 male\n",
      "selected ####################################################### 0.925015873745592\n",
      "length 2\n",
      "length 1\n",
      "0.6402569436810504\n",
      "------------------------\n",
      "0.5582102155269127\n",
      "[67 13] [247  37]\n",
      "overall entropy= 0.5762424634728771\n",
      "*************************************************************\n",
      "0.5582102155269127\n",
      "------------------------\n",
      "0.6402569436810504\n",
      "[247  37] [67 13]\n",
      "overall entropy= 0.5762424634728771\n",
      "*************************************************************\n",
      "0.5772899021747756\n",
      "------------------------\n",
      "0\n",
      "[314  50] []\n",
      "overall entropy= 0.5762424634728771\n",
      "*************************************************************\n",
      "column split= 0 3\n",
      "selected ####################################################### 0.5772899021747756\n",
      "length 1\n",
      "length 1\n",
      "0.5582102155269127\n",
      "------------------------\n",
      "0\n",
      "[247  37] []\n",
      "overall entropy= 0.5582102155269127\n",
      "*************************************************************\n",
      "0.5582102155269127\n",
      "------------------------\n",
      "0\n",
      "[247  37] []\n",
      "overall entropy= 0.5582102155269127\n",
      "*************************************************************\n",
      "column split= 1 male\n",
      "selected ####################################################### 0.5582102155269127\n",
      "length 1\n",
      "length 1\n",
      "0.6402569436810504\n",
      "------------------------\n",
      "0\n",
      "[67 13] []\n",
      "overall entropy= 0.6402569436810504\n",
      "*************************************************************\n",
      "0.6402569436810504\n",
      "------------------------\n",
      "0\n",
      "[67 13] []\n",
      "overall entropy= 0.6402569436810504\n",
      "*************************************************************\n",
      "column split= 1 male\n",
      "selected ####################################################### 0.6402569436810504\n",
      "length 3\n",
      "length 1\n",
      "0.10679203237584187\n",
      "------------------------\n",
      "0.9272299474277825\n",
      "[ 1 70] [ 62 119]\n",
      "overall entropy= 0.6960748205679104\n",
      "*************************************************************\n",
      "0.3955378064564774\n",
      "------------------------\n",
      "0.8914467590654125\n",
      "[ 5 59] [ 58 130]\n",
      "overall entropy= 0.6960748205679104\n",
      "*************************************************************\n",
      "0.999525689293649\n",
      "------------------------\n",
      "0.2623112196143366\n",
      "[57 60] [  6 129]\n",
      "overall entropy= 0.6045893662511603\n",
      "*************************************************************\n",
      "0.8112781244591328\n",
      "------------------------\n",
      "0\n",
      "[ 63 189] []\n",
      "overall entropy= 0.6045893662511603\n",
      "*************************************************************\n",
      "column split= 0 3\n",
      "selected ####################################################### 0.8112781244591328\n",
      "length 1\n",
      "length 1\n",
      "0.999525689293649\n",
      "------------------------\n",
      "0\n",
      "[57 60] []\n",
      "overall entropy= 0.999525689293649\n",
      "*************************************************************\n",
      "0.999525689293649\n",
      "------------------------\n",
      "0\n",
      "[57 60] []\n",
      "overall entropy= 0.999525689293649\n",
      "*************************************************************\n",
      "column split= 1 female\n",
      "selected ####################################################### 0.999525689293649\n",
      "length 2\n",
      "length 1\n",
      "0.10679203237584187\n",
      "------------------------\n",
      "0.3955378064564774\n",
      "[ 1 70] [ 5 59]\n",
      "overall entropy= 0.24367891786592094\n",
      "*************************************************************\n",
      "0.3955378064564774\n",
      "------------------------\n",
      "0.10679203237584187\n",
      "[ 5 59] [ 1 70]\n",
      "overall entropy= 0.24367891786592094\n",
      "*************************************************************\n",
      "0.2623112196143366\n",
      "------------------------\n",
      "0\n",
      "[  6 129] []\n",
      "overall entropy= 0.24367891786592094\n",
      "*************************************************************\n",
      "column split= 0 2\n",
      "selected ####################################################### 0.2623112196143366\n",
      "length 1\n",
      "length 1\n",
      "0.3955378064564774\n",
      "------------------------\n",
      "0\n",
      "[ 5 59] []\n",
      "overall entropy= 0.3955378064564774\n",
      "*************************************************************\n",
      "0.3955378064564774\n",
      "------------------------\n",
      "0\n",
      "[ 5 59] []\n",
      "overall entropy= 0.3955378064564774\n",
      "*************************************************************\n",
      "column split= 1 female\n",
      "selected ####################################################### 0.3955378064564774\n",
      "length 1\n",
      "length 1\n",
      "0.10679203237584187\n",
      "------------------------\n",
      "0\n",
      "[ 1 70] []\n",
      "overall entropy= 0.10679203237584187\n",
      "*************************************************************\n",
      "0.10679203237584187\n",
      "------------------------\n",
      "0\n",
      "[ 1 70] []\n",
      "overall entropy= 0.10679203237584187\n",
      "*************************************************************\n",
      "column split= 1 female\n",
      "selected ####################################################### 0.10679203237584187\n",
      "{'Sex = male': [0,\n",
      "                1]}\n"
     ]
    }
   ],
   "source": [
    "tree=decision_tree_algorithm(train_df,max_depth=5)\n",
    "pprint(tree, width=10)"
   ]
  },
  {
   "cell_type": "code",
   "execution_count": null,
   "id": "ce4ed4ba",
   "metadata": {},
   "outputs": [],
   "source": []
  },
  {
   "cell_type": "code",
   "execution_count": 57,
   "id": "d75fdf27",
   "metadata": {},
   "outputs": [],
   "source": [
    "def classify_example(example, tree):\n",
    "    question = list(tree.keys())[0]\n",
    "    feature_name, comparison_operator, value = question.split(\" \")\n",
    "\n",
    "    # ask question\n",
    "    if comparison_operator == \"<=\":  # feature is continuous\n",
    "        if example[feature_name] <= float(value):\n",
    "            answer = tree[question][0]\n",
    "        else:\n",
    "            answer = tree[question][1]\n",
    "    \n",
    "    # feature is categorical\n",
    "    else:\n",
    "        if str(example[feature_name]) == value:\n",
    "            answer = tree[question][0]\n",
    "        else:\n",
    "            answer = tree[question][1]\n",
    "\n",
    "    # base case\n",
    "    if not isinstance(answer, dict):\n",
    "        return answer\n",
    "    \n",
    "    # recursive part\n",
    "    else:\n",
    "        residual_tree = answer\n",
    "        return classify_example(example, residual_tree)"
   ]
  },
  {
   "cell_type": "code",
   "execution_count": null,
   "id": "554d5d83",
   "metadata": {},
   "outputs": [],
   "source": []
  },
  {
   "cell_type": "code",
   "execution_count": null,
   "id": "9dde83f8",
   "metadata": {},
   "outputs": [],
   "source": []
  }
 ],
 "metadata": {
  "kernelspec": {
   "display_name": "Python 3",
   "language": "python",
   "name": "python3"
  },
  "language_info": {
   "codemirror_mode": {
    "name": "ipython",
    "version": 3
   },
   "file_extension": ".py",
   "mimetype": "text/x-python",
   "name": "python",
   "nbconvert_exporter": "python",
   "pygments_lexer": "ipython3",
   "version": "3.8.8"
  }
 },
 "nbformat": 4,
 "nbformat_minor": 5
}
