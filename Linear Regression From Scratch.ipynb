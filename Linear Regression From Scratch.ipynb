{
 "cells": [
  {
   "cell_type": "code",
   "execution_count": 2,
   "id": "ff8873c0",
   "metadata": {},
   "outputs": [],
   "source": [
    "import matplotlib.pyplot as plt\n",
    "import pandas as pd\n",
    "import numpy as np\n",
    "from sklearn.model_selection import train_test_split"
   ]
  },
  {
   "cell_type": "code",
   "execution_count": 3,
   "id": "d45f2171",
   "metadata": {},
   "outputs": [
    {
     "data": {
      "text/html": [
       "<div>\n",
       "<style scoped>\n",
       "    .dataframe tbody tr th:only-of-type {\n",
       "        vertical-align: middle;\n",
       "    }\n",
       "\n",
       "    .dataframe tbody tr th {\n",
       "        vertical-align: top;\n",
       "    }\n",
       "\n",
       "    .dataframe thead th {\n",
       "        text-align: right;\n",
       "    }\n",
       "</style>\n",
       "<table border=\"1\" class=\"dataframe\">\n",
       "  <thead>\n",
       "    <tr style=\"text-align: right;\">\n",
       "      <th></th>\n",
       "      <th>Year_Of_Experience</th>\n",
       "      <th>Salary</th>\n",
       "    </tr>\n",
       "  </thead>\n",
       "  <tbody>\n",
       "    <tr>\n",
       "      <th>0</th>\n",
       "      <td>2</td>\n",
       "      <td>15</td>\n",
       "    </tr>\n",
       "    <tr>\n",
       "      <th>1</th>\n",
       "      <td>3</td>\n",
       "      <td>28</td>\n",
       "    </tr>\n",
       "    <tr>\n",
       "      <th>2</th>\n",
       "      <td>5</td>\n",
       "      <td>42</td>\n",
       "    </tr>\n",
       "    <tr>\n",
       "      <th>3</th>\n",
       "      <td>13</td>\n",
       "      <td>64</td>\n",
       "    </tr>\n",
       "    <tr>\n",
       "      <th>4</th>\n",
       "      <td>8</td>\n",
       "      <td>50</td>\n",
       "    </tr>\n",
       "    <tr>\n",
       "      <th>5</th>\n",
       "      <td>16</td>\n",
       "      <td>90</td>\n",
       "    </tr>\n",
       "    <tr>\n",
       "      <th>6</th>\n",
       "      <td>11</td>\n",
       "      <td>58</td>\n",
       "    </tr>\n",
       "    <tr>\n",
       "      <th>7</th>\n",
       "      <td>1</td>\n",
       "      <td>8</td>\n",
       "    </tr>\n",
       "    <tr>\n",
       "      <th>8</th>\n",
       "      <td>9</td>\n",
       "      <td>54</td>\n",
       "    </tr>\n",
       "    <tr>\n",
       "      <th>9</th>\n",
       "      <td>7</td>\n",
       "      <td>48</td>\n",
       "    </tr>\n",
       "    <tr>\n",
       "      <th>10</th>\n",
       "      <td>15</td>\n",
       "      <td>70</td>\n",
       "    </tr>\n",
       "  </tbody>\n",
       "</table>\n",
       "</div>"
      ],
      "text/plain": [
       "    Year_Of_Experience  Salary\n",
       "0                    2      15\n",
       "1                    3      28\n",
       "2                    5      42\n",
       "3                   13      64\n",
       "4                    8      50\n",
       "5                   16      90\n",
       "6                   11      58\n",
       "7                    1       8\n",
       "8                    9      54\n",
       "9                    7      48\n",
       "10                  15      70"
      ]
     },
     "execution_count": 3,
     "metadata": {},
     "output_type": "execute_result"
    }
   ],
   "source": [
    "df=pd.read_csv('D:\\Data_sets\\Data.csv')\n",
    "df"
   ]
  },
  {
   "cell_type": "code",
   "execution_count": 4,
   "id": "240ddda4",
   "metadata": {},
   "outputs": [
    {
     "data": {
      "text/plain": [
       "Text(0, 0.5, 'Salary in 1000$')"
      ]
     },
     "execution_count": 4,
     "metadata": {},
     "output_type": "execute_result"
    },
    {
     "data": {
      "image/png": "[encoded data removed]",
      "text/plain": [
       "<Figure size 576x432 with 1 Axes>"
      ]
     },
     "metadata": {
      "needs_background": "light"
     },
     "output_type": "display_data"
    }
   ],
   "source": [
    "plt.figure(figsize = (8,6))\n",
    "plt.scatter(df.Year_Of_Experience, df.Salary, color='r')\n",
    "plt.xlabel(\"Year Of Experience\",fontsize=15)\n",
    "plt.ylabel(\"Salary in 1000$\",fontsize=15)"
   ]
  },
  {
   "cell_type": "code",
   "execution_count": 5,
   "id": "96f514f8",
   "metadata": {},
   "outputs": [],
   "source": [
    "year=df.loc[:,'Year_Of_Experience']\n",
    "year=year.values\n",
    "\n",
    "salary=df.loc[:,'Salary']\n",
    "salary=salary.values"
   ]
  },
  {
   "cell_type": "code",
   "execution_count": 6,
   "id": "5ce953c5",
   "metadata": {},
   "outputs": [],
   "source": [
    "X_train, X_test, Y_train, Y_test = train_test_split(year, salary, test_size=0.2)"
   ]
  },
  {
   "cell_type": "code",
   "execution_count": 6,
   "id": "ef00a8b9",
   "metadata": {},
   "outputs": [
    {
     "name": "stdout",
     "output_type": "stream",
     "text": [
      "X_train = 8\n",
      "Y_train = 8\n"
     ]
    }
   ],
   "source": [
    "print(\"X_train =\",X_train.size)\n",
    "print(\"Y_train =\",Y_train.size)\n"
   ]
  },
  {
   "cell_type": "code",
   "execution_count": 7,
   "id": "246c6541",
   "metadata": {},
   "outputs": [
    {
     "name": "stdout",
     "output_type": "stream",
     "text": [
      "X_test = 3\n",
      "Y_test = 3\n"
     ]
    }
   ],
   "source": [
    "print(\"X_test =\",X_test.size)\n",
    "print(\"Y_test =\",Y_test.size)"
   ]
  },
  {
   "cell_type": "code",
   "execution_count": 8,
   "id": "513929a3",
   "metadata": {},
   "outputs": [],
   "source": [
    "class LinearRegression():\n",
    "\n",
    "    def __init__(self, iterations, learning_rate):\n",
    "        self.iterations = iterations\n",
    "        self.learning_rate = learning_rate\n",
    "    \n",
    "    def mean_squared_error(y_true, y_predicted):\n",
    "        cost = np.sum((y_true-y_predicted)**2) / len(y_true)\n",
    "        return cost\n",
    "\n",
    "    def fit_model(self,x, y):\n",
    "        current_weight = 0\n",
    "        current_bias = 0\n",
    "        iterations = self.iterations\n",
    "        learning_rate = self.learning_rate\n",
    "        n = len(x)\n",
    "\n",
    "        costs = []\n",
    "        weights = []\n",
    "\n",
    "\n",
    "        for i in range(iterations):\n",
    "\n",
    "            y_predicted = (current_weight * x) + current_bias\n",
    "\n",
    "            current_cost = LinearRegression.mean_squared_error(y, y_predicted)\n",
    "\n",
    "            previous_cost = current_cost\n",
    "\n",
    "            costs.append(current_cost)\n",
    "            weights.append(current_weight)\n",
    "\n",
    "            # Calculating the gradients\n",
    "            weight_gradient = -(2/n) * sum(x * (y-y_predicted))\n",
    "            bias_gradient = -(2/n) * sum(y-y_predicted)\n",
    "\n",
    "            # Updating weights and bias\n",
    "            current_weight = current_weight - (learning_rate * weight_gradient)\n",
    "            current_bias = current_bias - (learning_rate * bias_gradient)\n",
    "\n",
    "\n",
    "        return current_weight, current_bias\n",
    "    \n",
    "    \n",
    "    \n",
    "    def predict(self, x, w, b):\n",
    "        \n",
    "        ans= w * x + b\n",
    "        \n",
    "        return ans"
   ]
  },
  {
   "cell_type": "code",
   "execution_count": 9,
   "id": "659076f5",
   "metadata": {},
   "outputs": [
    {
     "name": "stdout",
     "output_type": "stream",
     "text": [
      "Weight: 5.4504009310407735\n",
      "Bias: 1.0992144714158185\n"
     ]
    },
    {
     "data": {
      "image/png": "[encoded data removed]",
      "text/plain": [
       "<Figure size 864x576 with 1 Axes>"
      ]
     },
     "metadata": {
      "needs_background": "light"
     },
     "output_type": "display_data"
    }
   ],
   "source": [
    "   \n",
    "lr=LinearRegression(1000,0.0001)\n",
    "\n",
    "weight, bias=lr.fit_model(X_train, Y_train)\n",
    "\n",
    "print(f\"Weight: {weight}\\nBias: {bias}\")\n",
    "\n",
    "\n",
    "plt.figure(figsize = (12,8))\n",
    "plt.scatter(X_train, Y_train, marker='o', color='red')\n",
    "\n",
    "\n",
    "regression_line= [(weight * x ) + bias for x in X_train]\n",
    "plt.plot(X_train,regression_line)\n",
    "\n",
    "\n",
    "plt.xlabel(\"X\")\n",
    "plt.ylabel(\"Y\")\n",
    "plt.show()"
   ]
  },
  {
   "cell_type": "code",
   "execution_count": 10,
   "id": "af821bf7",
   "metadata": {},
   "outputs": [
    {
     "data": {
      "text/plain": [
       "(array([ 2,  8, 13], dtype=int64), array([15, 50, 64], dtype=int64))"
      ]
     },
     "execution_count": 10,
     "metadata": {},
     "output_type": "execute_result"
    }
   ],
   "source": [
    "X_test, Y_test"
   ]
  },
  {
   "cell_type": "code",
   "execution_count": 11,
   "id": "a3c663db",
   "metadata": {},
   "outputs": [
    {
     "data": {
      "text/plain": [
       "array([12.00001633, 44.70242192, 71.95442657])"
      ]
     },
     "execution_count": 11,
     "metadata": {},
     "output_type": "execute_result"
    }
   ],
   "source": [
    "lr.predict(X_test, weight, bias)"
   ]
  },
  {
   "cell_type": "code",
   "execution_count": 12,
   "id": "47043c46",
   "metadata": {},
   "outputs": [
    {
     "data": {
      "text/plain": [
       "array([15, 50, 64], dtype=int64)"
      ]
     },
     "execution_count": 12,
     "metadata": {},
     "output_type": "execute_result"
    }
   ],
   "source": [
    "Y_test"
   ]
  },
  {
   "cell_type": "markdown",
   "id": "a0faf0f1",
   "metadata": {},
   "source": [
    "### R-squared"
   ]
  },
  {
   "cell_type": "code",
   "execution_count": 13,
   "id": "5090ce50",
   "metadata": {},
   "outputs": [],
   "source": [
    "y_pred = lr.predict(X_test, weight, bias)"
   ]
  },
  {
   "cell_type": "code",
   "execution_count": 14,
   "id": "728d9b3e",
   "metadata": {},
   "outputs": [],
   "source": [
    "SSres = np.sum(np.square(Y_test-y_pred))"
   ]
  },
  {
   "cell_type": "code",
   "execution_count": 15,
   "id": "dc13ebbb",
   "metadata": {},
   "outputs": [],
   "source": [
    "Y_mean=np.mean(Y_train)\n",
    "SStot = np.sum(np.square(Y_train-Y_mean))"
   ]
  },
  {
   "cell_type": "code",
   "execution_count": 16,
   "id": "244b13bb",
   "metadata": {},
   "outputs": [],
   "source": [
    "R_squared = 1 - SSres/SStot"
   ]
  },
  {
   "cell_type": "code",
   "execution_count": 17,
   "id": "2b583d8b",
   "metadata": {},
   "outputs": [
    {
     "data": {
      "text/plain": [
       "0.9771727590372159"
      ]
     },
     "execution_count": 17,
     "metadata": {},
     "output_type": "execute_result"
    }
   ],
   "source": [
    "R_squared"
   ]
  },
  {
   "cell_type": "code",
   "execution_count": null,
   "id": "801eed23",
   "metadata": {},
   "outputs": [],
   "source": []
  },
  {
   "cell_type": "code",
   "execution_count": null,
   "id": "faeff9eb",
   "metadata": {},
   "outputs": [],
   "source": []
  },
  {
   "cell_type": "code",
   "execution_count": null,
   "id": "a0136375",
   "metadata": {},
   "outputs": [],
   "source": []
  }
 ],
 "metadata": {
  "kernelspec": {
   "display_name": "Python 3",
   "language": "python",
   "name": "python3"
  },
  "language_info": {
   "codemirror_mode": {
    "name": "ipython",
    "version": 3
   },
   "file_extension": ".py",
   "mimetype": "text/x-python",
   "name": "python",
   "nbconvert_exporter": "python",
   "pygments_lexer": "ipython3",
   "version": "3.8.8"
  }
 },
 "nbformat": 4,
 "nbformat_minor": 5
}
